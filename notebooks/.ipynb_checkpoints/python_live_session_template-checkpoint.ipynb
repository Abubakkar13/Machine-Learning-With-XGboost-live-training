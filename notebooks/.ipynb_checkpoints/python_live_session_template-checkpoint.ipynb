{
 "cells": [
  {
   "cell_type": "markdown",
   "metadata": {
    "colab_type": "text",
    "id": "6Ijg5wUCTQYG"
   },
   "source": [
    "<p align=\"center\">\n",
    "<img src=\"https://github.com/datacamp/python-live-training-template/blob/master/assets/datacamp.svg?raw=True\" alt = \"DataCamp icon\" width=\"50%\">\n",
    "</p>\n",
    "<br><br>\n",
    "\n",
    "# **Machine Learning with XGboost**\n",
    "\n",
    "Welcome to this hands-on training where we will learn how to use XGBoost to create powerful prediction models using gradient boosting. Using Jupyter Notebooks you'll learn how to efficiently create, evaluate, and tune XGBoost models. This session will run for three hours, allowing you time to really immerse yourself in the subject, and includes short breaks and opportunities to ask the expert questions throughout the training. \n",
    "\n",
    "You will learn how to:\n",
    "\n",
    "- How to instantiate and customize XGBoost models\n",
    "- How to use XGBoost's DMatrix to optimize performance\n",
    "- How to evaluate models in XGBoost using the right metrics\n",
    "- How to tune parameters in XGBoost to achieve the best results\n",
    "- How to visualize trees in XGBoost to analyze feature importance\n",
    "\n",
    "\n",
    "## **The Dataset**\n",
    "\n",
    "The dataset to be used in this webinar is a CSV file named `hotel_bookings_clean.csv`, which contains data on hotel bookings. \n",
    "\n",
    "### Acknowledgements\n",
    "The dataset was downloaded on [Kaggle](https://www.kaggle.com/jessemostipak/hotel-booking-demand/). The data is originally from an article called [Hotel booking demand datasets](https://www.sciencedirect.com/science/article/pii/S2352340918315191) by Nuno Antonio, Ana de Almeida, and Luis Nunes. It was then cleaned by Thomas Mock and Antoine Bichat for [#TidyTuesday during the week of February 11th, 2020](https://github.com/rfordatascience/tidytuesday/blob/master/data/2020/2020-02-11/readme.md). For the purposes of this live training, it was further pre-processed to have cleaner ready-to-use features (e.g., dropping of irrelevant columns, one-hot-encoding). The dataset has the following [license](https://creativecommons.org/licenses/by/4.0/).\n",
    "\n",
    "### Data Dictionary\n",
    "\n",
    "It contains the **53 columns**:\n",
    "\n",
    "_For binary variables: `1` = true and `0` = false._\n",
    "\n",
    "- `is_cancelled`: binary variable indicating whether a booking was canceled\n",
    "- `lead time`: Number of days bettween booking data and arrival date\n",
    "- `arrival_date_week_number`, `arrival_date_day_of_month`, `arrival_date_month`: Week number, day date, and month number of arrival date. \n",
    "- `stays_in_weekend_nights`, `stays_in_week_nights`: Number of weekend nights (Saturday and Sunday) and week nights (Monday to Friday) the guest booked\n",
    "- `adults`,`children`,`babies`: Number of adults, children, babies booked for the stay\n",
    "- `is_repeated_guest`: binary variable indicating whether the customer was a repeat guest \n",
    "- `previous_cancellations`: Number of prior bookings that were cancelled by the customer\n",
    "- `previous_bookings_not_canceled`: Number of prior bookings that were not cancelled by the customer\n",
    "- `required_car_parking_spaces`: Number of parking spaces needed by the customer\n",
    "- `total_of_special_requests`: Number of special requests made by the customer\n",
    "- `avg_daily_rate`: Average Daily Rate as defined by dividing the sum of all lodging transactions by the total number of staying nights\n",
    "- `booked_by_company`: binary variable indicating whether the booking was booked by a company               \n",
    "- `booked_by_agent`: binary variable indicating whether the booking was booked by an agent \n",
    "- `hotel_city Hotel`: binary variable indicating whether the booked hotel is a \"City Hotel\"\n",
    "- `hotel_Resort Hotel`: binary variable indicating whether the booked hotel is a \"Resort Hotel\"\n",
    "- `meal_BB`: binary variable indicating whether a bed & breakfast meal was booked \n",
    "- `meal_HB`: binary variable indicating whether a half board meal was booked\n",
    "- `meal_FB`: binary variable indicating whether a full board meal was booked \n",
    "- `meal_No meal`:binary variable indicating whether there was no meal package booked \n",
    "- `market_segment_Aviation`, `market_segment_Complementary`, `market_segment_Corporate`, `market_segment_Direct`, `market_segment_Groups`, `market_segment_Offline TA/TO`, `market_segment_Online TA`, `market_segment_Undefined`: Indicates market segment designation with a value of `1`. \"TA\"= travel agent, \"TO\"= tour operators.\n",
    "- `distribution_channel_Corporate`, `distribution_channel_Direct`, `distribution_channel_GDS`, `distribution_channel_TA/TO`, `distribution_channel_Undefined`: indicates booking distribution channel with a value of `1`. \"TA\"= travel agent, \"TO\"= tour operators, \"GDS\" = Global Distribution System.\n",
    "- `reserved_room_type_A`,`reserved_room_type_B`, `reserved_room_type_C`,`reserved_room_type_D`, `reserved_room_type_E`, `reserved_room_type_F`, `reserved_room_type_G`, `reserved_room_type_H`, `reserved_room_type_L`: indicates code of room type reserved with a value of `1`. Code is presented instead of designation for anonymity reasons\n",
    "- `deposit_type_No Deposit`: binary variable indicating whether a deposit was made\n",
    "- `deposit_type_Non Refund`: binary variable indicating whether a deposit was made in the value of the total stay cost\n",
    "- `deposit_type_Refundable`: binary variable indicating whether a deposit was made with a value under the total stay cost \n",
    "- `customer_type_Contract`: binary variable indicating whether the booking has an allotment or other type of contract associated to it \n",
    "- `customer_type_Group`: binary variable indicating whether the booking is associated to a group \n",
    "- `customer_type_Transient`: binary variable indicating whether the booking is not part of a group or contract, and is not associated to other transient booking\n",
    "- `customer_type_Transient-Party`: binary variable indicating whether the booking is transient, but is associated to at least other transient booking"
   ]
  },
  {
   "cell_type": "markdown",
   "metadata": {
    "colab_type": "text",
    "id": "BMYfcKeDY85K"
   },
   "source": [
    "## **Getting started**\n",
    "\n",
    "Let's get to know our columns and split our data into features and labels!"
   ]
  },
  {
   "cell_type": "code",
   "execution_count": 5,
   "metadata": {
    "colab": {},
    "colab_type": "code",
    "id": "EMQfyC7GUNhT"
   },
   "outputs": [],
   "source": [
    "# Import libraries\n",
    "import pandas as pd\n",
    "# XGBoost typically uses the alias \"xgb\"\n",
    "import xgboost as xgb\n",
    "import numpy as np"
   ]
  },
  {
   "cell_type": "code",
   "execution_count": 8,
   "metadata": {
    "colab": {
     "base_uri": "https://localhost:8080/",
     "height": 479
    },
    "colab_type": "code",
    "id": "l8t_EwRNZPLB",
    "outputId": "36a85c6f-f2ae-44e0-ac01-fc55462bc616"
   },
   "outputs": [
    {
     "name": "stdout",
     "output_type": "stream",
     "text": [
      "<class 'pandas.core.frame.DataFrame'>\n",
      "RangeIndex: 119210 entries, 0 to 119209\n",
      "Data columns (total 53 columns):\n",
      " #   Column                          Non-Null Count   Dtype  \n",
      "---  ------                          --------------   -----  \n",
      " 0   is_canceled                     119210 non-null  int64  \n",
      " 1   lead_time                       119210 non-null  int64  \n",
      " 2   arrival_date_week_number        119210 non-null  int64  \n",
      " 3   arrival_date_day_of_month       119210 non-null  int64  \n",
      " 4   arrival_date_month              119210 non-null  int64  \n",
      " 5   stays_in_weekend_nights         119210 non-null  int64  \n",
      " 6   stays_in_week_nights            119210 non-null  int64  \n",
      " 7   adults                          119210 non-null  int64  \n",
      " 8   children                        119206 non-null  float64\n",
      " 9   babies                          119210 non-null  int64  \n",
      " 10  is_repeated_guest               119210 non-null  int64  \n",
      " 11  previous_cancellations          119210 non-null  int64  \n",
      " 12  previous_bookings_not_canceled  119210 non-null  int64  \n",
      " 13  required_car_parking_spaces     119210 non-null  int64  \n",
      " 14  total_of_special_requests       119210 non-null  int64  \n",
      " 15  avg_daily_rate                  119210 non-null  float64\n",
      " 16  booked_by_company               119210 non-null  int64  \n",
      " 17  booked_by_agent                 119210 non-null  int64  \n",
      " 18  hotel_City Hotel                119210 non-null  int64  \n",
      " 19  hotel_Resort Hotel              119210 non-null  int64  \n",
      " 20  meal_BB                         119210 non-null  int64  \n",
      " 21  meal_FB                         119210 non-null  int64  \n",
      " 22  meal_HB                         119210 non-null  int64  \n",
      " 23  meal_No meal                    119210 non-null  int64  \n",
      " 24  market_segment_Aviation         119210 non-null  int64  \n",
      " 25  market_segment_Complementary    119210 non-null  int64  \n",
      " 26  market_segment_Corporate        119210 non-null  int64  \n",
      " 27  market_segment_Direct           119210 non-null  int64  \n",
      " 28  market_segment_Groups           119210 non-null  int64  \n",
      " 29  market_segment_Offline TA/TO    119210 non-null  int64  \n",
      " 30  market_segment_Online TA        119210 non-null  int64  \n",
      " 31  market_segment_Undefined        119210 non-null  int64  \n",
      " 32  distribution_channel_Corporate  119210 non-null  int64  \n",
      " 33  distribution_channel_Direct     119210 non-null  int64  \n",
      " 34  distribution_channel_GDS        119210 non-null  int64  \n",
      " 35  distribution_channel_TA/TO      119210 non-null  int64  \n",
      " 36  distribution_channel_Undefined  119210 non-null  int64  \n",
      " 37  reserved_room_type_A            119210 non-null  int64  \n",
      " 38  reserved_room_type_B            119210 non-null  int64  \n",
      " 39  reserved_room_type_C            119210 non-null  int64  \n",
      " 40  reserved_room_type_D            119210 non-null  int64  \n",
      " 41  reserved_room_type_E            119210 non-null  int64  \n",
      " 42  reserved_room_type_F            119210 non-null  int64  \n",
      " 43  reserved_room_type_G            119210 non-null  int64  \n",
      " 44  reserved_room_type_H            119210 non-null  int64  \n",
      " 45  reserved_room_type_L            119210 non-null  int64  \n",
      " 46  deposit_type_No Deposit         119210 non-null  int64  \n",
      " 47  deposit_type_Non Refund         119210 non-null  int64  \n",
      " 48  deposit_type_Refundable         119210 non-null  int64  \n",
      " 49  customer_type_Contract          119210 non-null  int64  \n",
      " 50  customer_type_Group             119210 non-null  int64  \n",
      " 51  customer_type_Transient         119210 non-null  int64  \n",
      " 52  customer_type_Transient-Party   119210 non-null  int64  \n",
      "dtypes: float64(2), int64(51)\n",
      "memory usage: 48.2 MB\n"
     ]
    }
   ],
   "source": [
    "# Read in the dataset\n",
    "bookings = pd.read_csv('../data/hotel_bookings_clean.csv')\n",
    "\n",
    "# What are our columns?\n",
    "bookings.info()"
   ]
  },
  {
   "cell_type": "code",
   "execution_count": 9,
   "metadata": {
    "colab": {},
    "colab_type": "code",
    "id": "IAfz_jiu0NjN"
   },
   "outputs": [
    {
     "data": {
      "text/html": [
       "<div>\n",
       "<style scoped>\n",
       "    .dataframe tbody tr th:only-of-type {\n",
       "        vertical-align: middle;\n",
       "    }\n",
       "\n",
       "    .dataframe tbody tr th {\n",
       "        vertical-align: top;\n",
       "    }\n",
       "\n",
       "    .dataframe thead th {\n",
       "        text-align: right;\n",
       "    }\n",
       "</style>\n",
       "<table border=\"1\" class=\"dataframe\">\n",
       "  <thead>\n",
       "    <tr style=\"text-align: right;\">\n",
       "      <th></th>\n",
       "      <th>is_canceled</th>\n",
       "      <th>lead_time</th>\n",
       "      <th>arrival_date_week_number</th>\n",
       "      <th>arrival_date_day_of_month</th>\n",
       "      <th>arrival_date_month</th>\n",
       "      <th>stays_in_weekend_nights</th>\n",
       "      <th>stays_in_week_nights</th>\n",
       "      <th>adults</th>\n",
       "      <th>children</th>\n",
       "      <th>babies</th>\n",
       "      <th>...</th>\n",
       "      <th>reserved_room_type_G</th>\n",
       "      <th>reserved_room_type_H</th>\n",
       "      <th>reserved_room_type_L</th>\n",
       "      <th>deposit_type_No Deposit</th>\n",
       "      <th>deposit_type_Non Refund</th>\n",
       "      <th>deposit_type_Refundable</th>\n",
       "      <th>customer_type_Contract</th>\n",
       "      <th>customer_type_Group</th>\n",
       "      <th>customer_type_Transient</th>\n",
       "      <th>customer_type_Transient-Party</th>\n",
       "    </tr>\n",
       "  </thead>\n",
       "  <tbody>\n",
       "    <tr>\n",
       "      <th>count</th>\n",
       "      <td>119210.000000</td>\n",
       "      <td>119210.000000</td>\n",
       "      <td>119210.000000</td>\n",
       "      <td>119210.000000</td>\n",
       "      <td>119210.000000</td>\n",
       "      <td>119210.000000</td>\n",
       "      <td>119210.000000</td>\n",
       "      <td>119210.000000</td>\n",
       "      <td>119206.000000</td>\n",
       "      <td>119210.000000</td>\n",
       "      <td>...</td>\n",
       "      <td>119210.000000</td>\n",
       "      <td>119210.000000</td>\n",
       "      <td>119210.000000</td>\n",
       "      <td>119210.000000</td>\n",
       "      <td>119210.000000</td>\n",
       "      <td>119210.000000</td>\n",
       "      <td>119210.000000</td>\n",
       "      <td>119210.000000</td>\n",
       "      <td>119210.000000</td>\n",
       "      <td>119210.000000</td>\n",
       "    </tr>\n",
       "    <tr>\n",
       "      <th>mean</th>\n",
       "      <td>0.370766</td>\n",
       "      <td>104.109227</td>\n",
       "      <td>27.163376</td>\n",
       "      <td>15.798717</td>\n",
       "      <td>6.552051</td>\n",
       "      <td>0.927053</td>\n",
       "      <td>2.499195</td>\n",
       "      <td>1.859206</td>\n",
       "      <td>0.104047</td>\n",
       "      <td>0.007961</td>\n",
       "      <td>...</td>\n",
       "      <td>0.017549</td>\n",
       "      <td>0.005042</td>\n",
       "      <td>0.000050</td>\n",
       "      <td>0.876277</td>\n",
       "      <td>0.122364</td>\n",
       "      <td>0.001359</td>\n",
       "      <td>0.034158</td>\n",
       "      <td>0.004815</td>\n",
       "      <td>0.750575</td>\n",
       "      <td>0.210452</td>\n",
       "    </tr>\n",
       "    <tr>\n",
       "      <th>std</th>\n",
       "      <td>0.483012</td>\n",
       "      <td>106.875450</td>\n",
       "      <td>13.601107</td>\n",
       "      <td>8.781070</td>\n",
       "      <td>3.089796</td>\n",
       "      <td>0.995117</td>\n",
       "      <td>1.897106</td>\n",
       "      <td>0.575186</td>\n",
       "      <td>0.398842</td>\n",
       "      <td>0.097509</td>\n",
       "      <td>...</td>\n",
       "      <td>0.131305</td>\n",
       "      <td>0.070825</td>\n",
       "      <td>0.007094</td>\n",
       "      <td>0.329266</td>\n",
       "      <td>0.327707</td>\n",
       "      <td>0.036839</td>\n",
       "      <td>0.181636</td>\n",
       "      <td>0.069223</td>\n",
       "      <td>0.432682</td>\n",
       "      <td>0.407631</td>\n",
       "    </tr>\n",
       "    <tr>\n",
       "      <th>min</th>\n",
       "      <td>0.000000</td>\n",
       "      <td>0.000000</td>\n",
       "      <td>1.000000</td>\n",
       "      <td>1.000000</td>\n",
       "      <td>1.000000</td>\n",
       "      <td>0.000000</td>\n",
       "      <td>0.000000</td>\n",
       "      <td>0.000000</td>\n",
       "      <td>0.000000</td>\n",
       "      <td>0.000000</td>\n",
       "      <td>...</td>\n",
       "      <td>0.000000</td>\n",
       "      <td>0.000000</td>\n",
       "      <td>0.000000</td>\n",
       "      <td>0.000000</td>\n",
       "      <td>0.000000</td>\n",
       "      <td>0.000000</td>\n",
       "      <td>0.000000</td>\n",
       "      <td>0.000000</td>\n",
       "      <td>0.000000</td>\n",
       "      <td>0.000000</td>\n",
       "    </tr>\n",
       "    <tr>\n",
       "      <th>25%</th>\n",
       "      <td>0.000000</td>\n",
       "      <td>18.000000</td>\n",
       "      <td>16.000000</td>\n",
       "      <td>8.000000</td>\n",
       "      <td>4.000000</td>\n",
       "      <td>0.000000</td>\n",
       "      <td>1.000000</td>\n",
       "      <td>2.000000</td>\n",
       "      <td>0.000000</td>\n",
       "      <td>0.000000</td>\n",
       "      <td>...</td>\n",
       "      <td>0.000000</td>\n",
       "      <td>0.000000</td>\n",
       "      <td>0.000000</td>\n",
       "      <td>1.000000</td>\n",
       "      <td>0.000000</td>\n",
       "      <td>0.000000</td>\n",
       "      <td>0.000000</td>\n",
       "      <td>0.000000</td>\n",
       "      <td>1.000000</td>\n",
       "      <td>0.000000</td>\n",
       "    </tr>\n",
       "    <tr>\n",
       "      <th>50%</th>\n",
       "      <td>0.000000</td>\n",
       "      <td>69.000000</td>\n",
       "      <td>28.000000</td>\n",
       "      <td>16.000000</td>\n",
       "      <td>7.000000</td>\n",
       "      <td>1.000000</td>\n",
       "      <td>2.000000</td>\n",
       "      <td>2.000000</td>\n",
       "      <td>0.000000</td>\n",
       "      <td>0.000000</td>\n",
       "      <td>...</td>\n",
       "      <td>0.000000</td>\n",
       "      <td>0.000000</td>\n",
       "      <td>0.000000</td>\n",
       "      <td>1.000000</td>\n",
       "      <td>0.000000</td>\n",
       "      <td>0.000000</td>\n",
       "      <td>0.000000</td>\n",
       "      <td>0.000000</td>\n",
       "      <td>1.000000</td>\n",
       "      <td>0.000000</td>\n",
       "    </tr>\n",
       "    <tr>\n",
       "      <th>75%</th>\n",
       "      <td>1.000000</td>\n",
       "      <td>161.000000</td>\n",
       "      <td>38.000000</td>\n",
       "      <td>23.000000</td>\n",
       "      <td>9.000000</td>\n",
       "      <td>2.000000</td>\n",
       "      <td>3.000000</td>\n",
       "      <td>2.000000</td>\n",
       "      <td>0.000000</td>\n",
       "      <td>0.000000</td>\n",
       "      <td>...</td>\n",
       "      <td>0.000000</td>\n",
       "      <td>0.000000</td>\n",
       "      <td>0.000000</td>\n",
       "      <td>1.000000</td>\n",
       "      <td>0.000000</td>\n",
       "      <td>0.000000</td>\n",
       "      <td>0.000000</td>\n",
       "      <td>0.000000</td>\n",
       "      <td>1.000000</td>\n",
       "      <td>0.000000</td>\n",
       "    </tr>\n",
       "    <tr>\n",
       "      <th>max</th>\n",
       "      <td>1.000000</td>\n",
       "      <td>737.000000</td>\n",
       "      <td>53.000000</td>\n",
       "      <td>31.000000</td>\n",
       "      <td>12.000000</td>\n",
       "      <td>19.000000</td>\n",
       "      <td>50.000000</td>\n",
       "      <td>55.000000</td>\n",
       "      <td>10.000000</td>\n",
       "      <td>10.000000</td>\n",
       "      <td>...</td>\n",
       "      <td>1.000000</td>\n",
       "      <td>1.000000</td>\n",
       "      <td>1.000000</td>\n",
       "      <td>1.000000</td>\n",
       "      <td>1.000000</td>\n",
       "      <td>1.000000</td>\n",
       "      <td>1.000000</td>\n",
       "      <td>1.000000</td>\n",
       "      <td>1.000000</td>\n",
       "      <td>1.000000</td>\n",
       "    </tr>\n",
       "  </tbody>\n",
       "</table>\n",
       "<p>8 rows × 53 columns</p>\n",
       "</div>"
      ],
      "text/plain": [
       "         is_canceled      lead_time  arrival_date_week_number  \\\n",
       "count  119210.000000  119210.000000             119210.000000   \n",
       "mean        0.370766     104.109227                 27.163376   \n",
       "std         0.483012     106.875450                 13.601107   \n",
       "min         0.000000       0.000000                  1.000000   \n",
       "25%         0.000000      18.000000                 16.000000   \n",
       "50%         0.000000      69.000000                 28.000000   \n",
       "75%         1.000000     161.000000                 38.000000   \n",
       "max         1.000000     737.000000                 53.000000   \n",
       "\n",
       "       arrival_date_day_of_month  arrival_date_month  stays_in_weekend_nights  \\\n",
       "count              119210.000000       119210.000000            119210.000000   \n",
       "mean                   15.798717            6.552051                 0.927053   \n",
       "std                     8.781070            3.089796                 0.995117   \n",
       "min                     1.000000            1.000000                 0.000000   \n",
       "25%                     8.000000            4.000000                 0.000000   \n",
       "50%                    16.000000            7.000000                 1.000000   \n",
       "75%                    23.000000            9.000000                 2.000000   \n",
       "max                    31.000000           12.000000                19.000000   \n",
       "\n",
       "       stays_in_week_nights         adults       children         babies  ...  \\\n",
       "count         119210.000000  119210.000000  119206.000000  119210.000000  ...   \n",
       "mean               2.499195       1.859206       0.104047       0.007961  ...   \n",
       "std                1.897106       0.575186       0.398842       0.097509  ...   \n",
       "min                0.000000       0.000000       0.000000       0.000000  ...   \n",
       "25%                1.000000       2.000000       0.000000       0.000000  ...   \n",
       "50%                2.000000       2.000000       0.000000       0.000000  ...   \n",
       "75%                3.000000       2.000000       0.000000       0.000000  ...   \n",
       "max               50.000000      55.000000      10.000000      10.000000  ...   \n",
       "\n",
       "       reserved_room_type_G  reserved_room_type_H  reserved_room_type_L  \\\n",
       "count         119210.000000         119210.000000         119210.000000   \n",
       "mean               0.017549              0.005042              0.000050   \n",
       "std                0.131305              0.070825              0.007094   \n",
       "min                0.000000              0.000000              0.000000   \n",
       "25%                0.000000              0.000000              0.000000   \n",
       "50%                0.000000              0.000000              0.000000   \n",
       "75%                0.000000              0.000000              0.000000   \n",
       "max                1.000000              1.000000              1.000000   \n",
       "\n",
       "       deposit_type_No Deposit  deposit_type_Non Refund  \\\n",
       "count            119210.000000            119210.000000   \n",
       "mean                  0.876277                 0.122364   \n",
       "std                   0.329266                 0.327707   \n",
       "min                   0.000000                 0.000000   \n",
       "25%                   1.000000                 0.000000   \n",
       "50%                   1.000000                 0.000000   \n",
       "75%                   1.000000                 0.000000   \n",
       "max                   1.000000                 1.000000   \n",
       "\n",
       "       deposit_type_Refundable  customer_type_Contract  customer_type_Group  \\\n",
       "count            119210.000000           119210.000000        119210.000000   \n",
       "mean                  0.001359                0.034158             0.004815   \n",
       "std                   0.036839                0.181636             0.069223   \n",
       "min                   0.000000                0.000000             0.000000   \n",
       "25%                   0.000000                0.000000             0.000000   \n",
       "50%                   0.000000                0.000000             0.000000   \n",
       "75%                   0.000000                0.000000             0.000000   \n",
       "max                   1.000000                1.000000             1.000000   \n",
       "\n",
       "       customer_type_Transient  customer_type_Transient-Party  \n",
       "count            119210.000000                  119210.000000  \n",
       "mean                  0.750575                       0.210452  \n",
       "std                   0.432682                       0.407631  \n",
       "min                   0.000000                       0.000000  \n",
       "25%                   1.000000                       0.000000  \n",
       "50%                   1.000000                       0.000000  \n",
       "75%                   1.000000                       0.000000  \n",
       "max                   1.000000                       1.000000  \n",
       "\n",
       "[8 rows x 53 columns]"
      ]
     },
     "execution_count": 9,
     "metadata": {},
     "output_type": "execute_result"
    }
   ],
   "source": [
    "# Take a closer look at distributions\n",
    "bookings.describe()"
   ]
  },
  {
   "cell_type": "code",
   "execution_count": 10,
   "metadata": {
    "scrolled": true
   },
   "outputs": [
    {
     "data": {
      "text/plain": [
       "<matplotlib.axes._subplots.AxesSubplot at 0x1a1adb5150>"
      ]
     },
     "execution_count": 10,
     "metadata": {},
     "output_type": "execute_result"
    },
    {
     "data": {
      "image/png": "[encoded data removed]",
      "text/plain": [
       "<Figure size 432x288 with 1 Axes>"
      ]
     },
     "metadata": {
      "needs_background": "light"
     },
     "output_type": "display_data"
    }
   ],
   "source": [
    "# How many bookings are cancelled in this dataset?\n",
    "bookings['is_canceled'].value_counts().plot(kind='bar')"
   ]
  },
  {
   "cell_type": "code",
   "execution_count": 13,
   "metadata": {},
   "outputs": [],
   "source": [
    "# Ok, percentage?\n",
    "# TODO"
   ]
  },
  {
   "cell_type": "code",
   "execution_count": 11,
   "metadata": {},
   "outputs": [
    {
     "name": "stdout",
     "output_type": "stream",
     "text": [
      "is_canceled                       1.000000\n",
      "deposit_type_Non Refund           0.481507\n",
      "lead_time                         0.292876\n",
      "market_segment_Groups             0.221990\n",
      "distribution_channel_TA/TO        0.176005\n",
      "hotel_City Hotel                  0.137082\n",
      "customer_type_Transient           0.133235\n",
      "previous_cancellations            0.110139\n",
      "booked_by_agent                   0.102218\n",
      "reserved_room_type_A              0.069117\n",
      "adults                            0.058182\n",
      "avg_daily_rate                    0.046492\n",
      "meal_FB                           0.038790\n",
      "stays_in_week_nights              0.025542\n",
      "meal_BB                           0.012786\n",
      "arrival_date_month                0.011179\n",
      "arrival_date_week_number          0.008315\n",
      "distribution_channel_Undefined    0.005755\n",
      "reserved_room_type_H              0.005436\n",
      "market_segment_Undefined          0.005336\n",
      "children                          0.004862\n",
      "reserved_room_type_L             -0.000550\n",
      "stays_in_weekend_nights          -0.001323\n",
      "reserved_room_type_G             -0.001672\n",
      "arrival_date_day_of_month        -0.005948\n",
      "market_segment_Online TA         -0.006232\n",
      "meal_No meal                     -0.006571\n",
      "reserved_room_type_C             -0.007336\n",
      "reserved_room_type_B             -0.008372\n",
      "deposit_type_Refundable          -0.011345\n",
      "market_segment_Aviation          -0.013755\n",
      "distribution_channel_GDS         -0.014928\n",
      "meal_HB                          -0.020085\n",
      "reserved_room_type_F             -0.021778\n",
      "customer_type_Contract           -0.023690\n",
      "market_segment_Offline TA/TO     -0.028671\n",
      "babies                           -0.032569\n",
      "customer_type_Group              -0.038842\n",
      "reserved_room_type_E             -0.038882\n",
      "market_segment_Complementary     -0.040330\n",
      "reserved_room_type_D             -0.047736\n",
      "previous_bookings_not_canceled   -0.057365\n",
      "distribution_channel_Corporate   -0.075589\n",
      "market_segment_Corporate         -0.081645\n",
      "is_repeated_guest                -0.083745\n",
      "booked_by_company                -0.099692\n",
      "customer_type_Transient-Party    -0.124271\n",
      "hotel_Resort Hotel               -0.137082\n",
      "distribution_channel_Direct      -0.151583\n",
      "market_segment_Direct            -0.154366\n",
      "required_car_parking_spaces      -0.195701\n",
      "total_of_special_requests        -0.234877\n",
      "deposit_type_No Deposit          -0.477957\n",
      "Name: is_canceled, dtype: float64\n"
     ]
    }
   ],
   "source": [
    "# Let's get a sense of what may be our most powerful features\n",
    "correlation = bookings.corr()['is_canceled'].sort_values(ascending=False)\n",
    "print(correlation)"
   ]
  },
  {
   "cell_type": "code",
   "execution_count": 14,
   "metadata": {},
   "outputs": [],
   "source": [
    "# Split our label so we can get to building models!\n",
    "# The first column is our label `is_cancelled`, the rest are features\n",
    "X, y = bookings.iloc[:,1:], bookings.iloc[:,0]"
   ]
  },
  {
   "cell_type": "markdown",
   "metadata": {},
   "source": [
    "## Your First XGBoost Classifier \n",
    "\n",
    "Let's use `XGBoost`'s default classifier and get a baseline accuracy"
   ]
  },
  {
   "cell_type": "code",
   "execution_count": 79,
   "metadata": {},
   "outputs": [
    {
     "name": "stdout",
     "output_type": "stream",
     "text": [
      "accuracy: 0.815938\n"
     ]
    }
   ],
   "source": [
    "from sklearn.model_selection import train_test_split\n",
    "\n",
    "X_train, X_test, y_train, y_test= train_test_split(X, y, test_size=.33, random_state=6)\n",
    "\n",
    "# Instantiate a XGBClassifier\n",
    "## Let's do default values for parameters\n",
    "### max depth: Maximum tree depth for base learners.\n",
    "### n_estimators: Number of gradient boosted trees. Equivalent to number of boosting rounds.\n",
    "\n",
    "xg_cl = xgb.XGBClassifier(max_depth=6, n_estimators=10)\n",
    "\n",
    "# Fit it to the training set\n",
    "xg_cl.fit(X_train, y_train)\n",
    "\n",
    "# Predict the labels of the test set\n",
    "preds = xg_cl.predict(X_test)\n",
    "\n",
    "# Calculate the accuracy\n",
    "accuracy = float(np.sum(preds==y_test))/y_test.shape[0]\n",
    "print(\"accuracy: %f\" % (accuracy))"
   ]
  },
  {
   "cell_type": "markdown",
   "metadata": {},
   "source": [
    "## Cross Validation in XGBoost\n",
    "\n",
    "Cross validation is best practice, let's see how to use it in XGBoost"
   ]
  },
  {
   "cell_type": "markdown",
   "metadata": {},
   "source": [
    "### First DMartix\n",
    "Before we can use cross validation in `XGBoost`, we need to convert our dataframe into a `DMatrix`."
   ]
  },
  {
   "cell_type": "code",
   "execution_count": 80,
   "metadata": {},
   "outputs": [],
   "source": [
    "bookings_dmatrix = xgb.DMatrix(data=X,label=y)"
   ]
  },
  {
   "cell_type": "markdown",
   "metadata": {},
   "source": [
    "### Cross validation with xgb.cv"
   ]
  },
  {
   "cell_type": "code",
   "execution_count": 81,
   "metadata": {},
   "outputs": [
    {
     "data": {
      "text/html": [
       "<div>\n",
       "<style scoped>\n",
       "    .dataframe tbody tr th:only-of-type {\n",
       "        vertical-align: middle;\n",
       "    }\n",
       "\n",
       "    .dataframe tbody tr th {\n",
       "        vertical-align: top;\n",
       "    }\n",
       "\n",
       "    .dataframe thead th {\n",
       "        text-align: right;\n",
       "    }\n",
       "</style>\n",
       "<table border=\"1\" class=\"dataframe\">\n",
       "  <thead>\n",
       "    <tr style=\"text-align: right;\">\n",
       "      <th></th>\n",
       "      <th>train-error-mean</th>\n",
       "      <th>train-error-std</th>\n",
       "      <th>test-error-mean</th>\n",
       "      <th>test-error-std</th>\n",
       "    </tr>\n",
       "  </thead>\n",
       "  <tbody>\n",
       "    <tr>\n",
       "      <th>0</th>\n",
       "      <td>0.189938</td>\n",
       "      <td>0.002429</td>\n",
       "      <td>0.190647</td>\n",
       "      <td>0.001780</td>\n",
       "    </tr>\n",
       "    <tr>\n",
       "      <th>1</th>\n",
       "      <td>0.186880</td>\n",
       "      <td>0.000754</td>\n",
       "      <td>0.187300</td>\n",
       "      <td>0.001500</td>\n",
       "    </tr>\n",
       "    <tr>\n",
       "      <th>2</th>\n",
       "      <td>0.186818</td>\n",
       "      <td>0.001062</td>\n",
       "      <td>0.187274</td>\n",
       "      <td>0.001170</td>\n",
       "    </tr>\n",
       "    <tr>\n",
       "      <th>3</th>\n",
       "      <td>0.186691</td>\n",
       "      <td>0.001051</td>\n",
       "      <td>0.187216</td>\n",
       "      <td>0.001130</td>\n",
       "    </tr>\n",
       "    <tr>\n",
       "      <th>4</th>\n",
       "      <td>0.186431</td>\n",
       "      <td>0.000943</td>\n",
       "      <td>0.186989</td>\n",
       "      <td>0.001449</td>\n",
       "    </tr>\n",
       "  </tbody>\n",
       "</table>\n",
       "</div>"
      ],
      "text/plain": [
       "   train-error-mean  train-error-std  test-error-mean  test-error-std\n",
       "0          0.189938         0.002429         0.190647        0.001780\n",
       "1          0.186880         0.000754         0.187300        0.001500\n",
       "2          0.186818         0.001062         0.187274        0.001170\n",
       "3          0.186691         0.001051         0.187216        0.001130\n",
       "4          0.186431         0.000943         0.186989        0.001449"
      ]
     },
     "execution_count": 81,
     "metadata": {},
     "output_type": "execute_result"
    }
   ],
   "source": [
    "# define booster parameters using a dictionary\n",
    "## for now let's just define our objective and the max_depth which is 6 as default\n",
    "params = {\"objective\":\"binary:logistic\", 'max_depth': 6}\n",
    "\n",
    "# 3 folds and 10 boosting rounds is the default\n",
    "cv_results = xgb.cv(dtrain=bookings_dmatrix, params=params, nfold=3, num_boost_round=10,seed=123)\n",
    "\n",
    "# How are results stored?\n",
    "cv_results.head()"
   ]
  },
  {
   "cell_type": "markdown",
   "metadata": {},
   "source": [
    "### Results in XGBoost\n",
    "\n",
    "`error` as defined by [XGBoost documentation](https://xgboost.readthedocs.io/en/latest/parameter.html#learning-task-parameters):\n",
    "> Binary classification error rate. It is calculated as `#(wrong cases)/#(all cases)`. For the predictions, the evaluation will regard the instances with prediction value larger than 0.5 as positive instances, and the others as negative instances."
   ]
  },
  {
   "cell_type": "code",
   "execution_count": 83,
   "metadata": {},
   "outputs": [],
   "source": [
    "# Get the result from last boosting round\n",
    "results = cv_results.tail(1)"
   ]
  },
  {
   "cell_type": "code",
   "execution_count": 84,
   "metadata": {},
   "outputs": [
    {
     "name": "stdout",
     "output_type": "stream",
     "text": [
      "   train-error-mean  train-error-std  test-error-mean  test-error-std\n",
      "9          0.184465         0.001127         0.184926        0.002164\n"
     ]
    }
   ],
   "source": [
    "print(results)"
   ]
  },
  {
   "cell_type": "code",
   "execution_count": 85,
   "metadata": {},
   "outputs": [
    {
     "name": "stdout",
     "output_type": "stream",
     "text": [
      "0.8150743333333333\n"
     ]
    }
   ],
   "source": [
    "print(((1-cv_results[\"test-error-mean\"]).iloc[-1]))"
   ]
  },
  {
   "cell_type": "markdown",
   "metadata": {},
   "source": [
    "That isn't much different from our baseline of 0.815938 from earlier. Let's tune our parameters a bit more."
   ]
  },
  {
   "cell_type": "markdown",
   "metadata": {},
   "source": [
    "### More trees with early stopping\n",
    "Let's add more tree, but make sure to add **early stopping** so that it doesn't run forever"
   ]
  },
  {
   "cell_type": "code",
   "execution_count": null,
   "metadata": {},
   "outputs": [],
   "source": [
    "params = {\"objective\":\"binary:logistic\", 'max_depth': 6}\n",
    "\n",
    "cv_results = xgb.cv(dtrain=bookings_dmatrix, params=params, nfold=3, num_boost_round=30,early_stopping_rounds=10, seed=123)\n",
    "\n",
    "print(((1-cv_results[\"test-error-mean\"]).iloc[-1]))"
   ]
  },
  {
   "cell_type": "code",
   "execution_count": null,
   "metadata": {},
   "outputs": [],
   "source": []
  }
 ],
 "metadata": {
  "colab": {
   "name": "python_live_session_template.ipynb",
   "provenance": []
  },
  "kernelspec": {
   "display_name": "Python 3",
   "language": "python",
   "name": "python3"
  },
  "language_info": {
   "codemirror_mode": {
    "name": "ipython",
    "version": 3
   },
   "file_extension": ".py",
   "mimetype": "text/x-python",
   "name": "python",
   "nbconvert_exporter": "python",
   "pygments_lexer": "ipython3",
   "version": "3.7.6"
  }
 },
 "nbformat": 4,
 "nbformat_minor": 1
}
